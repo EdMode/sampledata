{
  "nbformat": 4,
  "nbformat_minor": 0,
  "metadata": {
    "colab": {
      "name": "Deep Learning using saved model",
      "provenance": [],
      "collapsed_sections": []
    },
    "kernelspec": {
      "name": "python3",
      "display_name": "Python 3"
    },
    "accelerator": "GPU"
  },
  "cells": [
    {
      "cell_type": "code",
      "metadata": {
        "id": "BUX2sbWiO196",
        "colab_type": "code",
        "colab": {}
      },
      "source": [
        "# This cell reads some sample data\n",
        "import os.path\n",
        "covidfileexists = os.path.isfile('sampledata/keras/bigmodel.zip') \n",
        "if covidfileexists:\n",
        "  pass\n",
        "else:\n",
        "  # a bit of magic to fetch the file\n",
        "  !rm -rf sampledata\n",
        "  !git clone https://github.com/awchisholm/sampledata.git"
      ],
      "execution_count": 10,
      "outputs": []
    },
    {
      "cell_type": "code",
      "metadata": {
        "id": "bvKbfxUDPMmV",
        "colab_type": "code",
        "colab": {}
      },
      "source": [
        "import shutil\n",
        "shutil.unpack_archive('sampledata/keras/bigmodel.zip', extract_dir='sampledata/keras/bigmodel')"
      ],
      "execution_count": 11,
      "outputs": []
    },
    {
      "cell_type": "code",
      "metadata": {
        "id": "UXkLgovkPXEr",
        "colab_type": "code",
        "colab": {}
      },
      "source": [
        "import keras\n",
        "from keras.models import Sequential\n",
        "from keras.utils import np_utils\n",
        "from keras.preprocessing.image import ImageDataGenerator\n",
        "from keras.layers import Dense, Activation, Flatten, Dropout, BatchNormalization\n",
        "from keras.layers import Conv2D, MaxPooling2D\n",
        "from keras.datasets import cifar10\n",
        "from keras import regularizers\n",
        "from keras.callbacks import LearningRateScheduler\n",
        "import numpy as np\n",
        "\n",
        "model = keras.models.load_model('sampledata/keras/bigmodel')"
      ],
      "execution_count": 7,
      "outputs": []
    },
    {
      "cell_type": "code",
      "metadata": {
        "id": "v1rc9Rc-QKLu",
        "colab_type": "code",
        "colab": {}
      },
      "source": [
        "from matplotlib import pyplot\n",
        "from PIL import Image\n",
        "im = Image.open(\"sampledata/keras/ship.jpg\")\n",
        "imrgb = im.convert('RGB')\n",
        "size = 32, 32\n",
        "im32 = imrgb.resize(size)\n",
        "im32array = np.array(im32)\n",
        "im32array_scaled = im32array.astype('float32')/255.0\n",
        "test_array = im32array_scaled.reshape(1,32,32,3)\n",
        "\n",
        "names = {0: 'aeroplane', 1: 'car', 2:'bird', 3:'cat', 4:'deer', 5:'dog', 6:'frog', 7:'horse', 8:'ship', 9:'lorry'}\n",
        "# Now we can predict what it is\n",
        "myprediction = model.predict_classes(test_array)\n",
        "print([names[i] for i in [x for x in myprediction]])\n",
        "pyplot.imshow(im)\n",
        "myprediction[0]"
      ],
      "execution_count": null,
      "outputs": []
    }
  ]
}