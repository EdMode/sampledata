{
  "nbformat": 4,
  "nbformat_minor": 0,
  "metadata": {
    "colab": {
      "name": "Recognising Images 90% accuracy",
      "provenance": [],
      "collapsed_sections": []
    },
    "kernelspec": {
      "name": "python3",
      "display_name": "Python 3"
    },
    "accelerator": "GPU"
  },
  "cells": [
    {
      "cell_type": "markdown",
      "metadata": {
        "id": "lnH5nH0kXEFW",
        "colab_type": "text"
      },
      "source": [
        "From https://github.com/abhijeet3922/Object-recognition-CIFAR-10/blob/master/cifar10_90.py\n"
      ]
    },
    {
      "cell_type": "code",
      "metadata": {
        "id": "D79JUyjp-k28",
        "colab_type": "code",
        "colab": {}
      },
      "source": [
        "import keras\n",
        "from keras.models import Sequential\n",
        "from keras.utils import np_utils\n",
        "from keras.preprocessing.image import ImageDataGenerator\n",
        "from keras.layers import Dense, Activation, Flatten, Dropout, BatchNormalization\n",
        "from keras.layers import Conv2D, MaxPooling2D\n",
        "from keras.datasets import cifar10\n",
        "from keras import regularizers\n",
        "from keras.callbacks import LearningRateScheduler\n",
        "import numpy as np\n",
        "\n",
        "def lr_schedule(epoch):\n",
        "    lrate = 0.001\n",
        "    if epoch > 75:\n",
        "        lrate = 0.0005\n",
        "    elif epoch > 100:\n",
        "        lrate = 0.0003        \n",
        "    return lrate\n",
        "\n",
        "(x_train_original, y_train_original), (x_test_original, y_test_original) = cifar10.load_data()\n",
        "x_train = x_train_original.astype('float32')\n",
        "x_test = x_test_original.astype('float32')\n",
        "\n",
        "#z-score\n",
        "mean = np.mean(x_train,axis=(0,1,2,3))\n",
        "std = np.std(x_train,axis=(0,1,2,3))\n",
        "x_train = (x_train-mean)/(std+1e-7)\n",
        "x_test = (x_test-mean)/(std+1e-7)\n",
        "\n",
        "num_classes = 10\n",
        "y_train = np_utils.to_categorical(y_train_original,num_classes)\n",
        "y_test = np_utils.to_categorical(y_test_original,num_classes)\n",
        "\n",
        "weight_decay = 1e-4\n",
        "model = Sequential()\n",
        "model.add(Conv2D(32, (3,3), padding='same', kernel_regularizer=regularizers.l2(weight_decay), input_shape=x_train.shape[1:]))\n",
        "model.add(Activation('elu'))\n",
        "model.add(BatchNormalization())\n",
        "model.add(Conv2D(32, (3,3), padding='same', kernel_regularizer=regularizers.l2(weight_decay)))\n",
        "model.add(Activation('elu'))\n",
        "model.add(BatchNormalization())\n",
        "model.add(MaxPooling2D(pool_size=(2,2)))\n",
        "model.add(Dropout(0.2))\n",
        "\n",
        "model.add(Conv2D(64, (3,3), padding='same', kernel_regularizer=regularizers.l2(weight_decay)))\n",
        "model.add(Activation('elu'))\n",
        "model.add(BatchNormalization())\n",
        "model.add(Conv2D(64, (3,3), padding='same', kernel_regularizer=regularizers.l2(weight_decay)))\n",
        "model.add(Activation('elu'))\n",
        "model.add(BatchNormalization())\n",
        "model.add(MaxPooling2D(pool_size=(2,2)))\n",
        "model.add(Dropout(0.3))\n",
        "\n",
        "model.add(Conv2D(128, (3,3), padding='same', kernel_regularizer=regularizers.l2(weight_decay)))\n",
        "model.add(Activation('elu'))\n",
        "model.add(BatchNormalization())\n",
        "model.add(Conv2D(128, (3,3), padding='same', kernel_regularizer=regularizers.l2(weight_decay)))\n",
        "model.add(Activation('elu'))\n",
        "model.add(BatchNormalization())\n",
        "model.add(MaxPooling2D(pool_size=(2,2)))\n",
        "model.add(Dropout(0.4))\n",
        "\n",
        "model.add(Flatten())\n",
        "model.add(Dense(num_classes, activation='softmax'))\n",
        "\n",
        "model.summary()"
      ],
      "execution_count": null,
      "outputs": []
    },
    {
      "cell_type": "code",
      "metadata": {
        "id": "xM4NC1NeVIIZ",
        "colab_type": "code",
        "colab": {}
      },
      "source": [
        "from keras.utils.vis_utils import plot_model\n",
        "plot_model(model, to_file='model_plot.png', show_shapes=True, show_layer_names=True)"
      ],
      "execution_count": null,
      "outputs": []
    },
    {
      "cell_type": "code",
      "metadata": {
        "id": "gscAVEquVk6B",
        "colab_type": "code",
        "colab": {}
      },
      "source": [
        "#data augmentation\n",
        "datagen = ImageDataGenerator(\n",
        "    rotation_range=15,\n",
        "    width_shift_range=0.1,\n",
        "    height_shift_range=0.1,\n",
        "    horizontal_flip=True,\n",
        "    )"
      ],
      "execution_count": 97,
      "outputs": []
    },
    {
      "cell_type": "code",
      "metadata": {
        "id": "XrYpETrkVCBQ",
        "colab_type": "code",
        "colab": {}
      },
      "source": [
        "history = datagen.fit(x_train)\n",
        "#training\n",
        "batch_size = 64\n",
        "\n",
        "opt_rms = keras.optimizers.RMSprop(lr=0.001,decay=1e-6)\n",
        "model.compile(loss='categorical_crossentropy', optimizer=opt_rms, metrics=['accuracy'])\n",
        "history = model.fit_generator(datagen.flow(x_train, y_train, batch_size=batch_size),\\\n",
        "                    steps_per_epoch=x_train.shape[0] // batch_size,epochs=50,\\\n",
        "                    verbose=1,validation_data=(x_test,y_test),callbacks=[LearningRateScheduler(lr_schedule)])"
      ],
      "execution_count": null,
      "outputs": []
    },
    {
      "cell_type": "code",
      "metadata": {
        "id": "OrltfY2DWgZl",
        "colab_type": "code",
        "colab": {}
      },
      "source": [
        "from matplotlib import pyplot\n",
        "pyplot.plot(history.history['accuracy'])\n",
        "pyplot.plot(history.history['val_accuracy'])\n",
        "pyplot.title('model accuracy')\n",
        "pyplot.ylabel('accuracy')\n",
        "pyplot.xlabel('epoch')\n",
        "pyplot.legend(['train', 'val'], loc='upper left')\n",
        "pyplot.show()"
      ],
      "execution_count": null,
      "outputs": []
    },
    {
      "cell_type": "code",
      "metadata": {
        "id": "Uwi26NldWv5n",
        "colab_type": "code",
        "colab": {}
      },
      "source": [
        "pyplot.plot(history.history['loss'])\n",
        "pyplot.plot(history.history['val_loss'])\n",
        "pyplot.title('model loss')\n",
        "pyplot.ylabel('loss')\n",
        "pyplot.xlabel('epoch')\n",
        "pyplot.legend(['train', 'val'], loc='upper left')\n",
        "pyplot.show()"
      ],
      "execution_count": null,
      "outputs": []
    },
    {
      "cell_type": "code",
      "metadata": {
        "id": "9A-Fr_A0V7i_",
        "colab_type": "code",
        "colab": {
          "base_uri": "https://localhost:8080/",
          "height": 217
        },
        "outputId": "8282fb22-630a-45e5-f257-85d5e7d49e66"
      },
      "source": [
        "#save to disk\n",
        "model_json = model.to_json()\n",
        "with open('model.json', 'w') as json_file:\n",
        "    json_file.write(model_json)\n",
        "\n",
        "model.save_weights('model.h5')    \n",
        "\n",
        "#testing\n",
        "scores = model.evaluate(x_test, y_test, batch_size=128, verbose=1)\n",
        "print('\\nTest result: %.3f loss: %.3f' % (scores[1]*100,scores[0]))\n",
        "\n",
        "model.save('sampledata/keras/bigmodel')"
      ],
      "execution_count": 102,
      "outputs": [
        {
          "output_type": "stream",
          "text": [
            "79/79 [==============================] - 1s 7ms/step - loss: 0.6168 - accuracy: 0.8517\n",
            "\n",
            "Test result: 85.170 loss: 0.617\n",
            "WARNING:tensorflow:From /usr/local/lib/python3.6/dist-packages/tensorflow/python/training/tracking/tracking.py:111: Model.state_updates (from tensorflow.python.keras.engine.training) is deprecated and will be removed in a future version.\n",
            "Instructions for updating:\n",
            "This property should not be used in TensorFlow 2.0, as updates are applied automatically.\n",
            "WARNING:tensorflow:From /usr/local/lib/python3.6/dist-packages/tensorflow/python/training/tracking/tracking.py:111: Layer.updates (from tensorflow.python.keras.engine.base_layer) is deprecated and will be removed in a future version.\n",
            "Instructions for updating:\n",
            "This property should not be used in TensorFlow 2.0, as updates are applied automatically.\n",
            "INFO:tensorflow:Assets written to: sampledata/keras/bigmodel/assets\n"
          ],
          "name": "stdout"
        }
      ]
    },
    {
      "cell_type": "code",
      "metadata": {
        "id": "t0-tRktKMuVx",
        "colab_type": "code",
        "colab": {}
      },
      "source": [
        "import shutil\n",
        "shutil.make_archive('sampledata/keras/bigmodel', 'zip', 'sampledata/keras/bigmodel')\n",
        "#shutil.unpack_archive('sampledata/keras/bigmodel.zip', extract_dir='sampledata/model')\n",
        "\n",
        "#loadedmodel = keras.models.load_model('sampledata/keras/bigmodel')\n",
        "#loadedscores = loadedmodel.evaluate(x_test, y_test, batch_size=128, verbose=1)\n",
        "#print('\\nTest result: %.3f loss: %.3f' % (loadedscores[1]*100,loadedscores[0]))"
      ],
      "execution_count": 114,
      "outputs": []
    },
    {
      "cell_type": "code",
      "metadata": {
        "id": "OVnyJNyr6A4-",
        "colab_type": "code",
        "colab": {}
      },
      "source": [
        "from matplotlib import pyplot\n",
        "from PIL.Image import fromarray\n",
        "import numpy as np\n",
        "\n",
        "print(x_test.shape)\n",
        "print(y_test.shape)\n",
        "\n",
        "for i in range(0, 9):\n",
        "  pyplot.subplot(330 + 1 + i)\n",
        "  pyplot.imshow(fromarray(x_test_original[i]))\n",
        "  label = y_test_original[i][0]\n",
        "  pyplot.title(label=names[label])\n",
        "\n",
        "pyplot.show()\n",
        "\n",
        "# Print some summaries about the expected and predicted values.\n",
        "predictions = model.predict_classes(x_test)\n",
        "predictednames = [names[i] for i in [x for x in predictions]]\n",
        "uniquepredictions, predictioncounts = np.unique(predictions, return_counts=True)\n",
        "print(predictednames)\n",
        "print(uniquepredictions)\n",
        "print(predictioncounts)\n",
        "expectednames = [names[i] for i in [x[0] for x in y_test_original]]\n",
        "uniqueexpected, uniquecounts = np.unique(y_test_original, return_counts = True)\n",
        "print(expectednames)\n",
        "print(uniqueexpected)\n",
        "print(uniquecounts)\n",
        "\n",
        "# Make a confusion matrix to show how well the classifier did\n",
        "import pandas as pd\n",
        "act = pd.Series(expectednames, name='Actual')\n",
        "pre = pd.Series(predictednames, name='Predicted')\n",
        "df_confusion = pd.crosstab(act, pre)\n",
        "print(df_confusion)"
      ],
      "execution_count": null,
      "outputs": []
    },
    {
      "cell_type": "code",
      "metadata": {
        "id": "YoB3aV2l4FZs",
        "colab_type": "code",
        "colab": {}
      },
      "source": [
        "# This cell reads some sample data\n",
        "import os.path\n",
        "covidfileexists = os.path.isfile('sampledata/keras/puss.png') \n",
        "if covidfileexists:\n",
        "  pass\n",
        "else:\n",
        "  # a bit of magic to fetch the file\n",
        "  !rm -rf sampledata\n",
        "  !git clone https://github.com/awchisholm/sampledata.git"
      ],
      "execution_count": 116,
      "outputs": []
    },
    {
      "cell_type": "code",
      "metadata": {
        "id": "_J59BZAP4Mzr",
        "colab_type": "code",
        "colab": {}
      },
      "source": [
        "from PIL import Image\n",
        "im = Image.open(\"sampledata/keras/ship.jpg\")\n",
        "imrgb = im.convert('RGB')\n",
        "size = 32, 32\n",
        "im32 = imrgb.resize(size)\n",
        "im32array = np.array(im32)\n",
        "im32array_scaled = im32array.astype('float32')/255.0\n",
        "test_array = im32array_scaled.reshape(1,32,32,3)\n",
        "\n",
        "names = {0: 'aeroplane', 1: 'car', 2:'bird', 3:'cat', 4:'deer', 5:'dog', 6:'frog', 7:'horse', 8:'ship', 9:'lorry'}\n",
        "# Now we can predict what it is\n",
        "myprediction = model.predict_classes(test_array)\n",
        "print([names[i] for i in [x for x in myprediction]])\n",
        "pyplot.imshow(im)\n",
        "#pyplot.imshow(im32)\n",
        "myprediction[0]"
      ],
      "execution_count": null,
      "outputs": []
    }
  ]
}