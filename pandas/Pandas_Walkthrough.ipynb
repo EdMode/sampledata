{
  "nbformat": 4,
  "nbformat_minor": 0,
  "metadata": {
    "colab": {
      "name": "Pandas Walkthrough",
      "provenance": [],
      "collapsed_sections": []
    },
    "kernelspec": {
      "name": "python3",
      "display_name": "Python 3"
    }
  },
  "cells": [
    {
      "cell_type": "code",
      "metadata": {
        "id": "bXjk7DVJd4b2",
        "colab_type": "code",
        "colab": {}
      },
      "source": [
        "# This cell reads some sample data\n",
        "import os.path\n",
        "fileexists = os.path.isfile('sampledata/pandas/ps3.csv') \n",
        "if fileexists:\n",
        "  pass\n",
        "else:\n",
        "  # a bit of magic to fetch the file\n",
        "  !rm -rf sampledata\n",
        "  !git clone https://github.com/awchisholm/sampledata.git"
      ],
      "execution_count": null,
      "outputs": []
    },
    {
      "cell_type": "code",
      "metadata": {
        "id": "_wPZaTT7WCcZ",
        "colab_type": "code",
        "colab": {}
      },
      "source": [
        "import pandas as pd\n",
        "ps3 = pd.read_csv('sampledata/pandas/ps3.csv')"
      ],
      "execution_count": null,
      "outputs": []
    },
    {
      "cell_type": "code",
      "metadata": {
        "id": "mz3Ra29AWXcj",
        "colab_type": "code",
        "colab": {}
      },
      "source": [
        "# basic information about the data we have just read\n",
        "print(ps3.shape)\n",
        "print(ps3.shape[0])\n",
        "print(ps3.shape[1])"
      ],
      "execution_count": null,
      "outputs": []
    },
    {
      "cell_type": "code",
      "metadata": {
        "id": "x8miIHONWsli",
        "colab_type": "code",
        "colab": {}
      },
      "source": [
        "# names of the columns and some details about the data types\n",
        "print(ps3.columns)\n",
        "print(len(ps3.columns))\n",
        "print(ps3.dtypes)"
      ],
      "execution_count": null,
      "outputs": []
    },
    {
      "cell_type": "code",
      "metadata": {
        "id": "QhZ4HuhnXBxb",
        "colab_type": "code",
        "colab": {}
      },
      "source": [
        "# some details of the data\n",
        "print(ps3.head(5))\n",
        "ps3.describe()"
      ],
      "execution_count": null,
      "outputs": []
    },
    {
      "cell_type": "code",
      "metadata": {
        "id": "vXoUEtLEXsli",
        "colab_type": "code",
        "colab": {}
      },
      "source": [
        "# data is in a pandas data frame and is laid out in rows and columns\n",
        "print('First row')\n",
        "print(ps3.iloc[0])\n",
        "print('')\n",
        "print('Second row')\n",
        "print(ps3.iloc[1])\n",
        "print('')\n",
        "print('First row and first column: ', ps3.iloc[0,0])\n",
        "print('First row and second column: ', ps3.iloc[0,1])\n",
        "print('First row and third column: ', ps3.iloc[0,2])\n",
        "print('Second row and sixth column: ', ps3.iloc[1,5])"
      ],
      "execution_count": null,
      "outputs": []
    },
    {
      "cell_type": "code",
      "metadata": {
        "id": "79SA85wQY8PJ",
        "colab_type": "code",
        "colab": {}
      },
      "source": [
        "# It's too hard to remember which column is which so we can use names\n",
        "ps3.loc[[0,1,2,26,27],['Name','Year']]"
      ],
      "execution_count": null,
      "outputs": []
    },
    {
      "cell_type": "code",
      "metadata": {
        "id": "ljvQXAoFaAbo",
        "colab_type": "code",
        "colab": {}
      },
      "source": [
        "# We can refer to column names in 2 different ways - these are the same \n",
        "# It's good practice to use one way and stick to it\n",
        "print(ps3['Year'])\n",
        "print(ps3.Year)"
      ],
      "execution_count": null,
      "outputs": []
    },
    {
      "cell_type": "code",
      "metadata": {
        "id": "kAeAVMQ7ZZvA",
        "colab_type": "code",
        "colab": {}
      },
      "source": [
        "# In this case, the index is the row number but it can be more complicated - you can use names\n",
        "ps3.index"
      ],
      "execution_count": null,
      "outputs": []
    },
    {
      "cell_type": "code",
      "metadata": {
        "id": "LxIQklIkZ1VY",
        "colab_type": "code",
        "colab": {}
      },
      "source": [
        "# The ps3 object has many built in methods\n",
        "methods = dir(ps3)\n",
        "print(len(methods))\n",
        "print(methods[0:20])\n",
        "# try ps3. to get auto completion"
      ],
      "execution_count": null,
      "outputs": []
    },
    {
      "cell_type": "code",
      "metadata": {
        "colab_type": "code",
        "id": "4EwUh-vqWgBA",
        "colab": {}
      },
      "source": [
        "# How many years are there?\n",
        "AllYears = ps3['Year']\n",
        "# There is a method called unique that can be used to determine the number of \n",
        "# unique entries in the variable\n",
        "AllYears.unique()\n",
        "# and we can find the length of this\n",
        "len(AllYears.unique())\n",
        "\n",
        "print('Number of unique years', len(AllYears.unique()))\n",
        "\n",
        "# An alternative is drop_duplicates\n",
        "# You would use this in a data frame\n",
        "AllYears.drop_duplicates()\n",
        "\n",
        "# what was the biggest global seller in 2006?\n",
        "# first we have to select 2006\n",
        "# let's start with the Years and make a variable that is True if the \n",
        "# the year is 2006 and False otherwise\n",
        "ps3_TF = ps3['Year'] == 2006\n",
        "# note that can use more complicated comparisons like >, <=, <, <=, and !=\n",
        "# for example\n",
        "ps3_TF2 = ps3['Year'] >= 2007\n",
        "ps3_2006 = ps3.loc[ps3_TF]\n",
        "\n",
        "# the maximum is easy to find\n",
        "maxIn2006 = ps3_2006['Global_Sales'].max()\n",
        "# the index where this is also easy to find\n",
        "maxIndexIn2006 = ps3_2006['Global_Sales'].idxmax()\n",
        "\n",
        "# we can combine to make a variable containing details of the maximum\n",
        "# and we can print it out\n",
        "ps3_maxIn2006 = ps3_2006.loc[maxIndexIn2006]\n",
        "print('Max', ps3_maxIn2006['Name'], ps3_maxIn2006['Global_Sales'])\n",
        "\n",
        "# We can now repeat this for different years \n",
        "# I've combined them into a single row\n",
        "# You will find that experienced programmers do this\n",
        "# While you are learning you don't have to\n",
        "ps3.loc[ps3.loc[ps3['Year'] == 2011]['EU_Sales'].idxmax()]\n",
        "\n",
        "# Pandas lets you make new columns\n",
        "# Let's work out what percentage is EU sales\n",
        "# This is 100*EU_Sales/Global_Sales\n",
        "ps3['EU_Percentage'] = 100 * ps3['EU_Sales']/ps3['Global_Sales']\n",
        "# Notice how the calculation applies to all the rows \n",
        "# This is a big strength of data frames\n",
        "# Notice how the new column is added to the data frame\n",
        "# For loops are not required.\n"
      ],
      "execution_count": null,
      "outputs": []
    },
    {
      "cell_type": "code",
      "metadata": {
        "id": "jK8D0NYCh3wd",
        "colab_type": "code",
        "colab": {}
      },
      "source": [
        ""
      ],
      "execution_count": null,
      "outputs": []
    }
  ]
}