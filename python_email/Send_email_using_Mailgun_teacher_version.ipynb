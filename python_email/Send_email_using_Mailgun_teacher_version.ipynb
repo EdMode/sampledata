{
  "nbformat": 4,
  "nbformat_minor": 0,
  "metadata": {
    "colab": {
      "name": "Send email using Mailgun - teacher version",
      "provenance": [],
      "collapsed_sections": []
    },
    "kernelspec": {
      "name": "python3",
      "display_name": "Python 3"
    },
    "language_info": {
      "name": "python"
    }
  },
  "cells": [
    {
      "cell_type": "markdown",
      "metadata": {
        "id": "B_Heh4pyvlOX"
      },
      "source": [
        "# **Sending emails using Mailgun**\n",
        "\n",
        "## Create account\n",
        "\n",
        "*   Go to https://signup.mailgun.com/new/signup\n",
        "*   Sign up using your personal email - the college one will not work\n",
        "*   Don't bother with a credit card - this still gives you a basic account\n",
        "*   Once logged in to the Mailgun dashboard, select *Sending* from the left side\n",
        "*   You should have a domain - click on it\n",
        "*   Select the API option then Python\n",
        "*   Copy the Python code\n",
        "*   You will need to edit the following 4 things\n",
        "    1. Copy the API base url into your code - it will be something like this (**yours will be different**)\n",
        "        > https://api.mailgun.net/v3/sandbox6e61a3bda725466f9bd28a192719f652.mailgun.org/messages\n",
        "    1. Copy the API key into your code - it will be something like this (**yours will be different**)\n",
        "        > fb6f5a96c1a0ef1fe684c4de90db5fb8-2ac825a1-c721429e\n",
        "    1. Change the *from* part to be something like this\n",
        "        > \"from\": \"andrew.chisholm@hsdc.ac.uk\"\n",
        "    1. Change the *to* part to something like this\n",
        "        > \"to\": \"awchisholm@gmail.com\"\n",
        "* You have to add the email addresses that you can send to. Do this by going to *Authorized Recipients* and add the email address you want to send to. You will need to accept the message the first time at the recipient.\n",
        "\n",
        "## Run the code\n",
        "\n",
        "Once all is set up, run the code to call the function. If you get \n",
        "\n",
        "> <Response [200]>\n",
        "\n",
        "\n",
        "\n",
        "\n",
        "it worked!\n",
        "\n",
        "## Sending emails as part of a booking system\n",
        "\n",
        "To use this in a booking system, you would need to modify the function to take parameters so that it is more flexible. You would probably pass the data as a parameter and use this in the function.\n",
        "\n",
        "## More complicated examples\n",
        "\n",
        "You can send attachments or inline images or both. Go here to read all about it.\n",
        "\n",
        "https://documentation.mailgun.com/en/latest/ \n",
        "\n",
        "This link gives specific details for sending.\n",
        "\n",
        "https://documentation.mailgun.com/en/latest/api-sending.html#sending"
      ]
    },
    {
      "cell_type": "code",
      "metadata": {
        "id": "6fc6I0HSkzp1"
      },
      "source": [
        "import requests\n",
        "def send_simple_message():\n",
        "    return requests.post(\n",
        "        \"https://api.mailgun.net/v3/sandbox67aabdf82dd44215aea745bebec5ce9c.mailgun.org/messages\",\n",
        "        auth=(\"api\", \"334d0e4bdf2b04a647419df29c81413c-2ac825a1-7d8ce384\"),\n",
        "    data={\"from\": \"andrew.chisholm@hsdc.ac.uk\",\n",
        "            \"to\": \"awchisholm@gmail.com\",\n",
        "            \"subject\": \"Hello\",\n",
        "            \"text\": \"Sending an email\"})\n",
        "\n",
        "send_simple_message()"
      ],
      "execution_count": 2,
      "outputs": []
    },
    {
      "cell_type": "code",
      "metadata": {
        "id": "a1M9RX0k7UoB",
        "colab": {
          "base_uri": "https://localhost:8080/",
          "height": 327
        },
        "outputId": "06f5ade5-89ba-4c44-b145-b8f1c7c71fad"
      },
      "source": [
        "def send_complex_message():\n",
        "    return requests.post(\n",
        "        \"https://api.mailgun.net/v3/sandbox67aabdf82dd44215aea745bebec5ce9c.mailgun.org/messages\",\n",
        "        auth=(\"api\", \"334d0e4bdf2b04a647419df29c81413c-2ac825a1-7d8ce384\"),\n",
        "        files=[(\"attachment\", (\"Send email using Mailgun - teacher version.ipynb\", open(\"Send email using Mailgun - teacher version.ipynb\",\"rb\").read())),\n",
        "               (\"attachment\", (\"Send email using Mailgun - teacher version.py\", open(\"Send email using Mailgun - teacher version.py\",\"rb\").read()))],\n",
        "        data={\"from\": \"andrew.chisholm@hsdc.ac.uk\",\n",
        "              \"to\": [\"awchisholm@gmail.com\", \"andrew.chisholm@hsdc.ac.uk\"],\n",
        "              #\"cc\": \"baz@example.com\",\n",
        "              #\"bcc\": \"bar@example.com\",\n",
        "              \"subject\": \"Hello\",\n",
        "              \"text\": \"Testing some Mailgun awesomness!\",\n",
        "              \"html\": \"<html>HTML version of the body</html>\"})\n",
        "    \n",
        "send_complex_message()"
      ],
      "execution_count": 5,
      "outputs": [
        {
          "output_type": "error",
          "ename": "FileNotFoundError",
          "evalue": "ignored",
          "traceback": [
            "\u001b[0;31m---------------------------------------------------------------------------\u001b[0m",
            "\u001b[0;31mFileNotFoundError\u001b[0m                         Traceback (most recent call last)",
            "\u001b[0;32m<ipython-input-5-1de50de1807a>\u001b[0m in \u001b[0;36m<module>\u001b[0;34m()\u001b[0m\n\u001b[1;32m     13\u001b[0m               \"html\": \"<html>HTML version of the body</html>\"})\n\u001b[1;32m     14\u001b[0m \u001b[0;34m\u001b[0m\u001b[0m\n\u001b[0;32m---> 15\u001b[0;31m \u001b[0msend_complex_message\u001b[0m\u001b[0;34m(\u001b[0m\u001b[0;34m)\u001b[0m\u001b[0;34m\u001b[0m\u001b[0;34m\u001b[0m\u001b[0m\n\u001b[0m",
            "\u001b[0;32m<ipython-input-5-1de50de1807a>\u001b[0m in \u001b[0;36msend_complex_message\u001b[0;34m()\u001b[0m\n\u001b[1;32m      3\u001b[0m         \u001b[0;34m\"https://api.mailgun.net/v3/sandbox67aabdf82dd44215aea745bebec5ce9c.mailgun.org/messages\"\u001b[0m\u001b[0;34m,\u001b[0m\u001b[0;34m\u001b[0m\u001b[0;34m\u001b[0m\u001b[0m\n\u001b[1;32m      4\u001b[0m         \u001b[0mauth\u001b[0m\u001b[0;34m=\u001b[0m\u001b[0;34m(\u001b[0m\u001b[0;34m\"api\"\u001b[0m\u001b[0;34m,\u001b[0m \u001b[0;34m\"334d0e4bdf2b04a647419df29c81413c-2ac825a1-7d8ce384\"\u001b[0m\u001b[0;34m)\u001b[0m\u001b[0;34m,\u001b[0m\u001b[0;34m\u001b[0m\u001b[0;34m\u001b[0m\u001b[0m\n\u001b[0;32m----> 5\u001b[0;31m         files=[(\"attachment\", (\"Mailgun.ipynb\", open(\"Mailgun.ipynb\",\"rb\").read())),\n\u001b[0m\u001b[1;32m      6\u001b[0m                (\"attachment\", (\"mailgun.py\", open(\"mailgun.py\",\"rb\").read()))],\n\u001b[1;32m      7\u001b[0m         data={\"from\": \"andrew.chisholm@hsdc.ac.uk\",\n",
            "\u001b[0;31mFileNotFoundError\u001b[0m: [Errno 2] No such file or directory: 'Mailgun.ipynb'"
          ]
        }
      ]
    },
    {
      "cell_type": "code",
      "metadata": {
        "id": "AV_fbRvN_Bzf"
      },
      "source": [
        "def send_inline_message():\n",
        "    return requests.post(\n",
        "        \"https://api.mailgun.net/v3/sandbox67aabdf82dd44215aea745bebec5ce9c.mailgun.org/messages\",\n",
        "        auth=(\"api\", \"334d0e4bdf2b04a647419df29c81413c-2ac825a1-7d8ce384\"),\n",
        "        files=[(\"inline\", open(\"/content/intoxicate.jpg\", mode='rb'))],\n",
        "        data={\"from\": \"andrew.chisholm@hsdc.ac.uk\",\n",
        "              \"to\": [\"awchisholm@gmail.com\"],\n",
        "              \"subject\": \"Hello\",\n",
        "              \"text\": \"Testing some Mailgun awesomness!\",\n",
        "              \"html\": \"<html>HTML version of the body</html>\"})\n",
        "\n",
        "send_inline_message()"
      ],
      "execution_count": null,
      "outputs": []
    },
    {
      "cell_type": "code",
      "metadata": {
        "colab": {
          "base_uri": "https://localhost:8080/"
        },
        "id": "kXRvrneMlHQ4",
        "outputId": "27e61976-2ff3-45b8-d0fe-3abdfe39b280"
      },
      "source": [
        ""
      ],
      "execution_count": null,
      "outputs": [
        {
          "output_type": "execute_result",
          "data": {
            "text/plain": [
              "<Response [200]>"
            ]
          },
          "metadata": {},
          "execution_count": 6
        }
      ]
    },
    {
      "cell_type": "code",
      "metadata": {
        "id": "Y8gEWCLY7u9A"
      },
      "source": [
        "send_complex_message()"
      ],
      "execution_count": null,
      "outputs": []
    },
    {
      "cell_type": "code",
      "metadata": {
        "id": "PvyUNltI8_n1",
        "colab": {
          "base_uri": "https://localhost:8080/"
        },
        "outputId": "d53fdd29-8c83-4da3-8005-89c9f6f7cd00"
      },
      "source": [
        "data={\n",
        "    \"from\": \"andrew.chisholm@hsdc.ac.uk\",\n",
        "    \"to\": \"awchisholm@gmail.com\",\n",
        "    \"subject\": \"Hello\",\n",
        "    \"text\": \"Parameter passing\"\n",
        "}\n",
        "def send_message(data):\n",
        "    return requests.post(\n",
        "        \"https://api.mailgun.net/v3/sandbox67aabdf82dd44215aea745bebec5ce9c.mailgun.org/messages\",\n",
        "        auth=(\"api\", \"334d0e4bdf2b04a647419df29c81413c-2ac825a1-7d8ce384\"),\n",
        "        data=data)\n",
        "\n",
        "send_message(data)"
      ],
      "execution_count": 4,
      "outputs": [
        {
          "output_type": "execute_result",
          "data": {
            "text/plain": [
              "<Response [200]>"
            ]
          },
          "metadata": {},
          "execution_count": 4
        }
      ]
    },
    {
      "cell_type": "code",
      "metadata": {
        "id": "D8RU41ik9gHr"
      },
      "source": [
        " open(\"000023.png\", mode='rb')"
      ],
      "execution_count": null,
      "outputs": []
    }
  ]
}